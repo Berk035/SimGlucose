{
 "cells": [
  {
   "cell_type": "code",
   "execution_count": 1,
   "metadata": {},
   "outputs": [
    {
     "name": "stderr",
     "output_type": "stream",
     "text": [
      "/home/berk/.local/lib/python3.8/site-packages/tqdm/auto.py:21: TqdmWarning: IProgress not found. Please update jupyter and ipywidgets. See https://ipywidgets.readthedocs.io/en/stable/user_install.html\n",
      "  from .autonotebook import tqdm as notebook_tqdm\n"
     ]
    }
   ],
   "source": [
    "import pickle as pkl\n",
    "import numpy as np\n",
    "from torch.utils.data import Dataset, DataLoader\n",
    "import pandas as pd"
   ]
  },
  {
   "cell_type": "code",
   "execution_count": 2,
   "metadata": {},
   "outputs": [],
   "source": [
    "own_data = pd.read_csv(\"/home/berk/VS_Projects/simglucose/exercise/notebooks/combined_adolescent.csv\")"
   ]
  },
  {
   "cell_type": "code",
   "execution_count": 3,
   "metadata": {},
   "outputs": [
    {
     "data": {
      "text/html": [
       "<div>\n",
       "<style scoped>\n",
       "    .dataframe tbody tr th:only-of-type {\n",
       "        vertical-align: middle;\n",
       "    }\n",
       "\n",
       "    .dataframe tbody tr th {\n",
       "        vertical-align: top;\n",
       "    }\n",
       "\n",
       "    .dataframe thead th {\n",
       "        text-align: right;\n",
       "    }\n",
       "</style>\n",
       "<table border=\"1\" class=\"dataframe\">\n",
       "  <thead>\n",
       "    <tr style=\"text-align: right;\">\n",
       "      <th></th>\n",
       "      <th>no</th>\n",
       "      <th>Action</th>\n",
       "      <th>CHO</th>\n",
       "      <th>reward</th>\n",
       "      <th>BG</th>\n",
       "      <th>CGM</th>\n",
       "      <th>RI</th>\n",
       "      <th>LBGI</th>\n",
       "      <th>HBGI</th>\n",
       "      <th>MRI</th>\n",
       "    </tr>\n",
       "  </thead>\n",
       "  <tbody>\n",
       "    <tr>\n",
       "      <th>0</th>\n",
       "      <td>0</td>\n",
       "      <td>0.000008</td>\n",
       "      <td>0.0</td>\n",
       "      <td>1.0</td>\n",
       "      <td>155.583498</td>\n",
       "      <td>164.647835</td>\n",
       "      <td>3.668147</td>\n",
       "      <td>0.0</td>\n",
       "      <td>3.668147</td>\n",
       "      <td>0.595842</td>\n",
       "    </tr>\n",
       "    <tr>\n",
       "      <th>1</th>\n",
       "      <td>1</td>\n",
       "      <td>0.000000</td>\n",
       "      <td>0.0</td>\n",
       "      <td>1.0</td>\n",
       "      <td>154.942206</td>\n",
       "      <td>163.893527</td>\n",
       "      <td>3.574990</td>\n",
       "      <td>0.0</td>\n",
       "      <td>3.574990</td>\n",
       "      <td>0.553341</td>\n",
       "    </tr>\n",
       "    <tr>\n",
       "      <th>2</th>\n",
       "      <td>2</td>\n",
       "      <td>0.000000</td>\n",
       "      <td>0.0</td>\n",
       "      <td>1.0</td>\n",
       "      <td>154.394367</td>\n",
       "      <td>163.081224</td>\n",
       "      <td>3.496061</td>\n",
       "      <td>0.0</td>\n",
       "      <td>3.496061</td>\n",
       "      <td>0.518141</td>\n",
       "    </tr>\n",
       "    <tr>\n",
       "      <th>3</th>\n",
       "      <td>3</td>\n",
       "      <td>0.000000</td>\n",
       "      <td>0.0</td>\n",
       "      <td>1.0</td>\n",
       "      <td>153.921872</td>\n",
       "      <td>162.242153</td>\n",
       "      <td>3.428477</td>\n",
       "      <td>0.0</td>\n",
       "      <td>3.428477</td>\n",
       "      <td>0.488613</td>\n",
       "    </tr>\n",
       "    <tr>\n",
       "      <th>4</th>\n",
       "      <td>4</td>\n",
       "      <td>0.000000</td>\n",
       "      <td>0.0</td>\n",
       "      <td>1.0</td>\n",
       "      <td>153.511040</td>\n",
       "      <td>161.412521</td>\n",
       "      <td>3.370085</td>\n",
       "      <td>0.0</td>\n",
       "      <td>3.370085</td>\n",
       "      <td>0.463569</td>\n",
       "    </tr>\n",
       "  </tbody>\n",
       "</table>\n",
       "</div>"
      ],
      "text/plain": [
       "   no    Action  CHO  reward          BG         CGM        RI  LBGI  \\\n",
       "0   0  0.000008  0.0     1.0  155.583498  164.647835  3.668147   0.0   \n",
       "1   1  0.000000  0.0     1.0  154.942206  163.893527  3.574990   0.0   \n",
       "2   2  0.000000  0.0     1.0  154.394367  163.081224  3.496061   0.0   \n",
       "3   3  0.000000  0.0     1.0  153.921872  162.242153  3.428477   0.0   \n",
       "4   4  0.000000  0.0     1.0  153.511040  161.412521  3.370085   0.0   \n",
       "\n",
       "       HBGI       MRI  \n",
       "0  3.668147  0.595842  \n",
       "1  3.574990  0.553341  \n",
       "2  3.496061  0.518141  \n",
       "3  3.428477  0.488613  \n",
       "4  3.370085  0.463569  "
      ]
     },
     "execution_count": 3,
     "metadata": {},
     "output_type": "execute_result"
    }
   ],
   "source": [
    "type(own_data)\n",
    "own_data.describe()\n",
    "own_data.head()"
   ]
  },
  {
   "cell_type": "code",
   "execution_count": 4,
   "metadata": {},
   "outputs": [
    {
     "name": "stdout",
     "output_type": "stream",
     "text": [
      "[[0.00000000e+00 8.33333300e-06 0.00000000e+00 ... 0.00000000e+00\n",
      "  3.66814722e+00 5.95842080e-01]\n",
      " [1.00000000e+00 0.00000000e+00 0.00000000e+00 ... 0.00000000e+00\n",
      "  3.57498975e+00 5.53340630e-01]\n",
      " [2.00000000e+00 0.00000000e+00 0.00000000e+00 ... 0.00000000e+00\n",
      "  3.49606116e+00 5.18141230e-01]\n",
      " ...\n",
      " [9.86760000e+04 0.00000000e+00 0.00000000e+00 ... 3.05052985e-02\n",
      "  0.00000000e+00 2.70089064e+00]\n",
      " [9.86770000e+04 0.00000000e+00 0.00000000e+00 ... 2.91084648e-02\n",
      "  0.00000000e+00 2.68540383e+00]\n",
      " [9.86780000e+04 0.00000000e+00 0.00000000e+00 ... 2.77909350e-02\n",
      "  0.00000000e+00 2.67049472e+00]]\n"
     ]
    }
   ],
   "source": [
    "own_data_value = own_data.values\n",
    "print(own_data_value)"
   ]
  },
  {
   "cell_type": "code",
   "execution_count": 5,
   "metadata": {},
   "outputs": [],
   "source": [
    "actions_own_data = own_data['Action'].values\n",
    "states_own_data = own_data['BG'].values\n",
    "reward_own_data = own_data['reward'].values\n",
    "terminals_own_data = np.full(len(actions_own_data), False)\n",
    "next_state_own_data = own_data['BG'].values[1:]\n"
   ]
  },
  {
   "cell_type": "code",
   "execution_count": 6,
   "metadata": {},
   "outputs": [],
   "source": [
    "next_state_own_data = np.append(next_state_own_data, next_state_own_data[-1])"
   ]
  },
  {
   "cell_type": "code",
   "execution_count": 7,
   "metadata": {},
   "outputs": [],
   "source": [
    "terminals_own_data[-1] = True"
   ]
  },
  {
   "cell_type": "code",
   "execution_count": 8,
   "metadata": {},
   "outputs": [],
   "source": [
    "data_dict = {'observations': states_own_data, 'next_observations':next_state_own_data, \n",
    "             'actions': actions_own_data, 'rewards': reward_own_data, 'terminals': terminals_own_data}"
   ]
  },
  {
   "cell_type": "code",
   "execution_count": 24,
   "metadata": {},
   "outputs": [],
   "source": [
    "seq_length = 4800\n",
    "final_data = []\n",
    "for idx in range(0,len(states_own_data),seq_length):\n",
    "    data_dict = {'observations': np.array([states_own_data[idx:seq_length+idx]]), 'next_observations':np.array([next_state_own_data[idx:seq_length+idx]]), \n",
    "                'actions': np.array([actions_own_data[idx:seq_length+idx]]), 'rewards': np.array([reward_own_data[idx:seq_length+idx]]), \n",
    "                'terminals': np.array([terminals_own_data[idx:seq_length+idx]])}\n",
    "    final_data.append(data_dict)\n",
    "    data_dict = {}"
   ]
  },
  {
   "cell_type": "code",
   "execution_count": 25,
   "metadata": {},
   "outputs": [
    {
     "data": {
      "text/plain": [
       "array([False])"
      ]
     },
     "execution_count": 25,
     "metadata": {},
     "output_type": "execute_result"
    }
   ],
   "source": [
    "(final_data[0]['terminals'][:,-1])"
   ]
  },
  {
   "cell_type": "code",
   "execution_count": 27,
   "metadata": {},
   "outputs": [],
   "source": [
    "for i in range(len(final_data)):\n",
    "    final_data[i]['observations']=final_data[i]['observations'].squeeze()\n",
    "    final_data[i]['next_observations']=final_data[i]['next_observations'].squeeze()\n",
    "    final_data[i]['rewards']=final_data[i]['rewards'].squeeze()\n",
    "    final_data[i]['actions']=final_data[i]['actions'].squeeze()\n",
    "    final_data[i]['terminals']=final_data[i]['terminals'].squeeze()\n",
    "    final_data[i]['terminals'][-1]= True"
   ]
  },
  {
   "cell_type": "code",
   "execution_count": 30,
   "metadata": {},
   "outputs": [],
   "source": [
    "# Save the dictionary to a pickle file\n",
    "with open('./PPO_traj_4800_step.pkl', 'wb') as file:\n",
    "    pkl.dump(final_data, file)"
   ]
  },
  {
   "cell_type": "code",
   "execution_count": 31,
   "metadata": {},
   "outputs": [],
   "source": [
    "with open('./PPO_traj_4800_step.pkl', 'rb') as file:\n",
    "    final_data = pkl.load(file)"
   ]
  },
  {
   "cell_type": "code",
   "execution_count": 32,
   "metadata": {},
   "outputs": [
    {
     "data": {
      "text/plain": [
       "(4800,)"
      ]
     },
     "execution_count": 32,
     "metadata": {},
     "output_type": "execute_result"
    }
   ],
   "source": [
    "np.shape(final_data[0]['terminals'])"
   ]
  },
  {
   "cell_type": "code",
   "execution_count": 33,
   "metadata": {},
   "outputs": [
    {
     "data": {
      "text/plain": [
       "(4800,)"
      ]
     },
     "execution_count": 33,
     "metadata": {},
     "output_type": "execute_result"
    }
   ],
   "source": [
    "np.shape(final_data[1]['terminals'])"
   ]
  }
 ],
 "metadata": {
  "kernelspec": {
   "display_name": "simbg",
   "language": "python",
   "name": "python3"
  },
  "language_info": {
   "codemirror_mode": {
    "name": "ipython",
    "version": 3
   },
   "file_extension": ".py",
   "mimetype": "text/x-python",
   "name": "python",
   "nbconvert_exporter": "python",
   "pygments_lexer": "ipython3",
   "version": "3.8.18"
  }
 },
 "nbformat": 4,
 "nbformat_minor": 2
}
